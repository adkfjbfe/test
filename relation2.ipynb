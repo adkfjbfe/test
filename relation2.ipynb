{
 "cells": [
  {
   "cell_type": "code",
   "execution_count": 1,
   "id": "b9fbdb9c-c0dc-4f36-86dc-3f736b31fe2d",
   "metadata": {},
   "outputs": [],
   "source": [
    "import pandas as pd\n",
    "import numpy as np\n",
    "import matplotlib.pyplot as plt\n",
    "import networkx as nx\n",
    "import matplotlib.font_manager as fm\n",
    "\n",
    "df = pd.read_csv(\"출자구조.CSV\", encoding=\"cp949\")"
   ]
  },
  {
   "cell_type": "code",
   "execution_count": 2,
   "id": "71c135e7-6276-458a-825e-5f51ef794d48",
   "metadata": {},
   "outputs": [
    {
     "data": {
      "text/html": [
       "<div>\n",
       "<style scoped>\n",
       "    .dataframe tbody tr th:only-of-type {\n",
       "        vertical-align: middle;\n",
       "    }\n",
       "\n",
       "    .dataframe tbody tr th {\n",
       "        vertical-align: top;\n",
       "    }\n",
       "\n",
       "    .dataframe thead th {\n",
       "        text-align: right;\n",
       "    }\n",
       "</style>\n",
       "<table border=\"1\" class=\"dataframe\">\n",
       "  <thead>\n",
       "    <tr style=\"text-align: right;\">\n",
       "      <th></th>\n",
       "      <th>피소유 기관</th>\n",
       "      <th>소유 기관</th>\n",
       "      <th>지분</th>\n",
       "      <th>비고</th>\n",
       "    </tr>\n",
       "  </thead>\n",
       "  <tbody>\n",
       "    <tr>\n",
       "      <th>0</th>\n",
       "      <td>인천국제공항공사</td>\n",
       "      <td>국토교통부</td>\n",
       "      <td>100.00</td>\n",
       "      <td>NaN</td>\n",
       "    </tr>\n",
       "    <tr>\n",
       "      <th>1</th>\n",
       "      <td>한국가스공사</td>\n",
       "      <td>정부</td>\n",
       "      <td>26.15</td>\n",
       "      <td>NaN</td>\n",
       "    </tr>\n",
       "    <tr>\n",
       "      <th>2</th>\n",
       "      <td>한국가스공사</td>\n",
       "      <td>한국전력공사</td>\n",
       "      <td>20.47</td>\n",
       "      <td>NaN</td>\n",
       "    </tr>\n",
       "    <tr>\n",
       "      <th>3</th>\n",
       "      <td>한국가스공사</td>\n",
       "      <td>지방자치단체</td>\n",
       "      <td>7.39</td>\n",
       "      <td>NaN</td>\n",
       "    </tr>\n",
       "    <tr>\n",
       "      <th>4</th>\n",
       "      <td>한국가스공사</td>\n",
       "      <td>우리사주</td>\n",
       "      <td>1.07</td>\n",
       "      <td>NaN</td>\n",
       "    </tr>\n",
       "    <tr>\n",
       "      <th>...</th>\n",
       "      <td>...</td>\n",
       "      <td>...</td>\n",
       "      <td>...</td>\n",
       "      <td>...</td>\n",
       "    </tr>\n",
       "    <tr>\n",
       "      <th>106</th>\n",
       "      <td>기업은행</td>\n",
       "      <td>수출입은행</td>\n",
       "      <td>1.84</td>\n",
       "      <td>NaN</td>\n",
       "    </tr>\n",
       "    <tr>\n",
       "      <th>107</th>\n",
       "      <td>기업은행</td>\n",
       "      <td>기타</td>\n",
       "      <td>31.46</td>\n",
       "      <td>NaN</td>\n",
       "    </tr>\n",
       "    <tr>\n",
       "      <th>108</th>\n",
       "      <td>수출입은행</td>\n",
       "      <td>정부</td>\n",
       "      <td>76.38</td>\n",
       "      <td>NaN</td>\n",
       "    </tr>\n",
       "    <tr>\n",
       "      <th>109</th>\n",
       "      <td>수출입은행</td>\n",
       "      <td>산업은행</td>\n",
       "      <td>16.72</td>\n",
       "      <td>NaN</td>\n",
       "    </tr>\n",
       "    <tr>\n",
       "      <th>110</th>\n",
       "      <td>수출입은행</td>\n",
       "      <td>한국은행</td>\n",
       "      <td>6.90</td>\n",
       "      <td>NaN</td>\n",
       "    </tr>\n",
       "  </tbody>\n",
       "</table>\n",
       "<p>111 rows × 4 columns</p>\n",
       "</div>"
      ],
      "text/plain": [
       "       피소유 기관   소유 기관      지분   비고\n",
       "0    인천국제공항공사   국토교통부  100.00  NaN\n",
       "1      한국가스공사      정부   26.15  NaN\n",
       "2      한국가스공사  한국전력공사   20.47  NaN\n",
       "3      한국가스공사  지방자치단체    7.39  NaN\n",
       "4      한국가스공사    우리사주    1.07  NaN\n",
       "..        ...     ...     ...  ...\n",
       "106      기업은행   수출입은행    1.84  NaN\n",
       "107      기업은행      기타   31.46  NaN\n",
       "108     수출입은행      정부   76.38  NaN\n",
       "109     수출입은행    산업은행   16.72  NaN\n",
       "110     수출입은행    한국은행    6.90  NaN\n",
       "\n",
       "[111 rows x 4 columns]"
      ]
     },
     "execution_count": 2,
     "metadata": {},
     "output_type": "execute_result"
    }
   ],
   "source": [
    "df"
   ]
  },
  {
   "cell_type": "code",
   "execution_count": null,
   "id": "9eaa71e6-3d39-46c7-a0ac-60fb595dd935",
   "metadata": {},
   "outputs": [],
   "source": []
  },
  {
   "cell_type": "code",
   "execution_count": 3,
   "id": "7b7bc35c-0713-43cf-a024-21518986023a",
   "metadata": {},
   "outputs": [],
   "source": [
    "#한글 폰트 오류 방지\n",
    "font_path = 'C:\\\\Windows\\\\Fonts\\\\malgun.ttf'\n",
    "font_name = fm.FontProperties(fname=font_path).get_name()\n",
    "plt.rc('font', family=font_name)\n",
    "plt.rcParams['axes.unicode_minus'] = False "
   ]
  },
  {
   "cell_type": "code",
   "execution_count": 4,
   "id": "1bf96a60-072a-40a5-9ae0-5d6a500a80d6",
   "metadata": {},
   "outputs": [],
   "source": [
    "UserInput = ['한국전력공사', '정부']"
   ]
  },
  {
   "cell_type": "code",
   "execution_count": 5,
   "id": "5403f5af-69af-4059-b61f-d1342cabb8a6",
   "metadata": {},
   "outputs": [],
   "source": [
    "#함수 정의\n",
    "def target_owners(df, target_orgs):\n",
    "    results = {}\n",
    "    for org in target_orgs:\n",
    "        owners = df[df['피소유 기관'] == org]['소유 기관'].tolist()\n",
    "        if owners:\n",
    "            results[org] = owners\n",
    "            sub_results = target_owners(df, owners)\n",
    "            for key, value in sub_results.items():\n",
    "                results[key] = value\n",
    "    return results\n",
    "\n",
    "def target_owning(df, target_orgs):\n",
    "    results = {}\n",
    "    for org in target_orgs:\n",
    "        owned = df[df['소유 기관'] == org]['피소유 기관'].tolist()\n",
    "        if owned:\n",
    "            results[org] = owned\n",
    "            sub_results = target_owning(df, owned)\n",
    "            for key, value in sub_results.items():\n",
    "                results[key] = value\n",
    "    return results\n"
   ]
  },
  {
   "cell_type": "code",
   "execution_count": 7,
   "id": "b2120e84-d4bd-4981-aa46-59cc9bc3e4c5",
   "metadata": {},
   "outputs": [
    {
     "name": "stdout",
     "output_type": "stream",
     "text": [
      "각 기관의 지분을 가진 기관:\n",
      "{'한국전력공사': ['정부', '산업은행', '국민연금공단', '외국인', '기타'], '산업은행': ['기획재정부', '국토교통부', '산업통상자원부', '해양수산부', '기후대응기금']}\n",
      "\n",
      "각 기관이 지분을 가진 기관:\n",
      "{'한국전력공사': ['한국가스공사', '한국남동발전', '한국남부발전', '한국동서발전', '한국서부발전', '한국수력원자력', '한국중부발전', '한국지역난방공사'], '정부': ['한국가스공사', '한국석유공사', '한국전력공사', '대한석탄공사', '한국광해광업공단', '한국수자원공사', '한국철도공사', '한국토지주택공사', '한국주택금융공사', '한국해양진흥공사', '기업은행', '수출입은행'], '한국수자원공사': ['한국해외인프라도시개발지원공사'], '한국철도공사': ['한국해외인프라도시개발지원공사'], '한국토지주택공사': ['한국해외인프라도시개발지원공사'], '한국해양진흥공사': ['부산항만공사', '여수광양항만공사', '울산항만공사', '인천항만공사'], '수출입은행': ['여수광양항만공사', '기업은행']}\n"
     ]
    }
   ],
   "source": [
    "targetOwners = target_owners(df, UserInput)\n",
    "targetOwns = target_owning(df, UserInput)\n",
    "\n",
    "print(f\"각 기관의 지분을 가진 기관:\\n{targetOwners}\")\n",
    "print(f\"\\n각 기관이 지분을 가진 기관:\\n{targetOwns}\")\n"
   ]
  },
  {
   "cell_type": "code",
   "execution_count": 9,
   "id": "3693f6de-7842-40cd-8b93-b2c800f88f07",
   "metadata": {},
   "outputs": [
    {
     "name": "stdout",
     "output_type": "stream",
     "text": [
      "{'한국남동발전', '한국서부발전', '기타', '여수광양항만공사', '산업통상자원부', '기획재정부', '한국전력공사', '한국수자원공사', '한국광해광업공단', '한국남부발전', '한국철도공사', '한국주택금융공사', '인천항만공사', '한국토지주택공사', '한국중부발전', '울산항만공사', '국토교통부', '한국동서발전', '해양수산부', '한국해외인프라도시개발지원공사', '한국석유공사', '한국지역난방공사', '산업은행', '국민연금공단', '한국해양진흥공사', '한국가스공사', '대한석탄공사', '한국수력원자력', '부산항만공사', '수출입은행', '외국인', '기후대응기금', '정부', '기업은행'}\n"
     ]
    }
   ],
   "source": [
    "DI = nx.DiGraph()\n",
    "\n",
    "# 2. 모든 노드(기관) 추가\n",
    "all_nodes = set(targetOwners.keys()) | set(targetOwns.keys())\n",
    "for owners in targetOwners.values():\n",
    "    all_nodes.update(owners)\n",
    "for owned in targetOwns.values():\n",
    "    all_nodes.update(owned)\n",
    "DI.add_nodes_from(all_nodes)\n",
    "DI.add_nodes_from(UserInput)\n",
    "print(all_nodes)"
   ]
  },
  {
   "cell_type": "code",
   "execution_count": null,
   "id": "b0a2ced9-8ca8-4c7e-8fea-a2a90c826633",
   "metadata": {},
   "outputs": [],
   "source": [
    "DI = nx.DiGraph()\n",
    "\n",
    "# 2. adding nodes\n",
    "all_nodes = set(targetOwners.keys()) | set(targetOwns.keys())\n",
    "for owners in targetOwners.values():\n",
    "    all_nodes.update(owners)\n",
    "for owned in targetOwns.values():\n",
    "    all_nodes.update(owned)\n",
    "DI.add_nodes_from(all_nodes)\n",
    "DI.add_nodes_from(UserInput)\n",
    "\n",
    "# 3. edges classification\n",
    "edges_userOwner = []\n",
    "edges_userOwns = []\n",
    "\n",
    "for owner, owned_list in targetOwners.items():\n",
    "    for owned in owned_list:\n",
    "        DI.add_weighted_edges_from(owner, owned)\n",
    "        if owner in UserInput:\n",
    "            edges_userOwner.append((owner, owned))\n",
    "        else:\n",
    "            edges_userOwns.append((owner, owned))\n",
    "\n",
    "for owned, owner_list in all_owners_dict.items():\n",
    "    for owner in owner_list:\n",
    "        G.add_edge(owner, owned)\n",
    "        if owner in UserInput:\n",
    "            user_owned_edges.append((owner, owned))\n",
    "        else:\n",
    "            user_owner_edges.append((owner, owned))\n"
   ]
  }
 ],
 "metadata": {
  "kernelspec": {
   "display_name": "Python 3",
   "language": "python",
   "name": "python3"
  },
  "language_info": {
   "codemirror_mode": {
    "name": "ipython",
    "version": 3
   },
   "file_extension": ".py",
   "mimetype": "text/x-python",
   "name": "python",
   "nbconvert_exporter": "python",
   "pygments_lexer": "ipython3",
   "version": "3.13.2"
  }
 },
 "nbformat": 4,
 "nbformat_minor": 5
}
